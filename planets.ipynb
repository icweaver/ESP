{
 "cells": [
  {
   "cell_type": "markdown",
   "metadata": {},
   "source": [
    "# Data Visualization"
   ]
  },
  {
   "cell_type": "markdown",
   "metadata": {},
   "source": [
    "First, lets's import some tools."
   ]
  },
  {
   "cell_type": "code",
   "execution_count": 2,
   "metadata": {},
   "outputs": [],
   "source": [
    "import matplotlib.pyplot as plt # for plotting\n",
    "import seaborn as sns # for beautifying plots\n",
    "import urllib.request\n",
    "from astropy.io import ascii # for reading in files\n",
    "\n",
    "# some optional seaborn preferences to tweak the look\n",
    "# more here: https://seaborn.pydata.org/tutorial/aesthetics.html\n",
    "sns.set_context('poster')\n",
    "sns.set_style('darkgrid')\n",
    "sns.set_color_codes('deep')\n",
    "sns.set_palette('deep')\n",
    "\n",
    "# for displaying high def plots in the notebook\n",
    "%config InlineBackend.figure_format = 'retina'"
   ]
  },
  {
   "cell_type": "markdown",
   "metadata": {},
   "source": [
    "## Downloading the data"
   ]
  },
  {
   "cell_type": "markdown",
   "metadata": {},
   "source": [
    "Alright, now let's download `allplanets-csv.csv` from [tepcat](http://www.astro.keele.ac.uk/jkt/tepcat/) and read it into a table called\n",
    "`t`."
   ]
  },
  {
   "cell_type": "code",
   "execution_count": 85,
   "metadata": {},
   "outputs": [
    {
     "data": {
      "text/plain": [
       "('allplanets-csv.csv', <http.client.HTTPMessage at 0x1a10eb5630>)"
      ]
     },
     "execution_count": 85,
     "metadata": {},
     "output_type": "execute_result"
    }
   ],
   "source": [
    "# download the file\n",
    "url = 'http://www.astro.keele.ac.uk/jkt/tepcat/allplanets-csv.csv'\n",
    "urllib.request.urlretrieve(url, 'allplanets-csv.csv')"
   ]
  },
  {
   "cell_type": "markdown",
   "metadata": {},
   "source": [
    "## Dealing with duplicate names in the header \\*groan\\*"
   ]
  },
  {
   "cell_type": "code",
   "execution_count": 139,
   "metadata": {},
   "outputs": [],
   "source": [
    "# open the file\n",
    "with open('allplanets-csv.csv') as f:\n",
    "    header = f.readline() # save the first line\n",
    "    data = f.readlines() # save all the other lines\n",
    "\n",
    "# replace every instance of '..err..' with 'err_N' where N is some number\n",
    "header = header.split()\n",
    "for i, word in enumerate(header):\n",
    "    if 'err' in word:\n",
    "        word_idx = header.index(word)\n",
    "        header[word_idx] = f'err_{i}'\n",
    "\n",
    "# merge all the words into a single comma separated string\n",
    "header = ' '.join(header)\n",
    "header += '\\n' # tack on a newline to mark the end of the header\n",
    "\n",
    "# write the modified data to a new file\n",
    "with open('new.csv', 'w') as f:\n",
    "    f.write(header)\n",
    "    f.writelines(data)"
   ]
  },
  {
   "cell_type": "markdown",
   "metadata": {},
   "source": [
    "## Displaying the data"
   ]
  },
  {
   "cell_type": "markdown",
   "metadata": {},
   "source": [
    "Now that that annoying header business is out of the way, let's take a look at the data!"
   ]
  },
  {
   "cell_type": "code",
   "execution_count": 4,
   "metadata": {
    "scrolled": true
   },
   "outputs": [
    {
     "data": {
      "text/html": [
       "<i>Table length=10</i>\n",
       "<table id=\"table4559315744-422046\" class=\"table-striped table-bordered table-condensed\">\n",
       "<thead><tr><th>idx</th><th>System</th><th>Teff</th><th>err_4</th><th>err_6</th><th>[Fe/H]</th><th>err_9</th><th>err_11</th><th>M_A</th><th>err_15</th><th>err_17</th><th>R_A</th><th>err_21</th><th>err_23</th><th>loggA</th><th>err_27</th><th>err_29</th><th>rho_A</th><th>err_33</th><th>err_35</th><th>Period</th><th>e</th><th>err_41</th><th>err_43</th><th>a(AU)</th><th>err_47</th><th>err_49</th><th>M_b</th><th>err_53</th><th>err_55</th><th>R_b</th><th>err_59</th><th>err_61</th><th>g_b</th><th>err_65</th><th>err_67</th><th>rho_b</th><th>err_71</th><th>err_73</th><th>Teq</th><th>err_77</th><th>err_79</th><th>Discovery_reference</th><th>Recent_reference</th></tr></thead>\n",
       "<tr><td>0</td><td>55_Cnc_e</td><td>5196</td><td>24</td><td>24</td><td>0.31</td><td>0.04</td><td>0.04</td><td>0.905</td><td>0.015</td><td>0.015</td><td>0.943</td><td>0.01</td><td>0.01</td><td>4.43</td><td>0.05</td><td>0.05</td><td>-1.0</td><td>-1.0</td><td>-1.0</td><td>0.737</td><td>0.057</td><td>0.064</td><td>0.041</td><td>0.01544</td><td>9e-05</td><td>9e-05</td><td>0.0254</td><td>0.001</td><td>0.001</td><td>0.1704</td><td>0.0071</td><td>0.0071</td><td>21.4</td><td>2.1</td><td>1.9</td><td>4.82</td><td>0.6</td><td>0.53</td><td>2349.0</td><td>188.0</td><td>193.0</td><td>2011ApJ...737L..18W</td><td>2016Natur.532..207D</td></tr>\n",
       "<tr><td>1</td><td>AD_3116</td><td>3184</td><td>29</td><td>29</td><td>0.14</td><td>0.1</td><td>0.1</td><td>0.276</td><td>0.02</td><td>0.02</td><td>0.29</td><td>0.08</td><td>0.08</td><td>-1.0</td><td>-1.0</td><td>-1.0</td><td>-1.0</td><td>-1.0</td><td>-1.0</td><td>1.983</td><td>0.146</td><td>0.024</td><td>0.016</td><td>-1.0</td><td>-1.0</td><td>-1.0</td><td>54.2</td><td>4.3</td><td>4.3</td><td>1.02</td><td>0.28</td><td>0.28</td><td>-1.0</td><td>-1.0</td><td>-1</td><td>-1.0</td><td>-1.0</td><td>-1.0</td><td>1669.0</td><td>244.0</td><td>258.0</td><td>2017ApJ...849...11G</td><td>2017ApJ...849...11G</td></tr>\n",
       "<tr><td>2</td><td>CoRoT-01</td><td>5950</td><td>150</td><td>150</td><td>-0.3</td><td>0.25</td><td>0.25</td><td>0.95</td><td>0.11</td><td>0.11</td><td>1.131</td><td>0.045</td><td>0.045</td><td>4.311</td><td>0.019</td><td>0.019</td><td>0.66</td><td>0.019</td><td>0.019</td><td>1.509</td><td>0.0</td><td>-1.0</td><td>-1.0</td><td>0.02536</td><td>0.00138</td><td>0.00022</td><td>1.03</td><td>0.1</td><td>0.1</td><td>1.551</td><td>0.064</td><td>0.064</td><td>10.65</td><td>0.69</td><td>0.69</td><td>0.259</td><td>0.021</td><td>0.021</td><td>1915.0</td><td>49.0</td><td>49.0</td><td>2008A+A...482L..17B</td><td>2011MNRAS.417.2166S</td></tr>\n",
       "<tr><td>3</td><td>CoRoT-02</td><td>5598</td><td>50</td><td>50</td><td>0.04</td><td>0.05</td><td>0.05</td><td>0.997</td><td>0.049</td><td>0.049</td><td>0.901</td><td>0.019</td><td>0.019</td><td>4.527</td><td>0.017</td><td>0.017</td><td>1.362</td><td>0.064</td><td>0.064</td><td>1.743</td><td>0.0143</td><td>0.0077</td><td>0.0077</td><td>0.02835</td><td>0.00047</td><td>0.00047</td><td>3.57</td><td>0.15</td><td>0.15</td><td>1.46</td><td>0.031</td><td>0.031</td><td>41.5</td><td>1.7</td><td>1.7</td><td>1.073</td><td>0.058</td><td>0.058</td><td>1521.0</td><td>18.0</td><td>18.0</td><td>2008A+A...482L..21A</td><td>2012MNRAS.426.1291S</td></tr>\n",
       "<tr><td>4</td><td>CoRoT-03</td><td>6558</td><td>44</td><td>44</td><td>0.14</td><td>0.04</td><td>0.04</td><td>1.403</td><td>0.061</td><td>0.061</td><td>1.575</td><td>0.094</td><td>0.094</td><td>4.191</td><td>0.046</td><td>0.046</td><td>0.359</td><td>0.058</td><td>0.058</td><td>4.257</td><td>0.0</td><td>-1.0</td><td>-1.0</td><td>0.05783</td><td>0.0011</td><td>0.00049</td><td>21.96</td><td>0.703</td><td>0.703</td><td>1.037</td><td>0.069</td><td>0.069</td><td>506.0</td><td>67.0</td><td>67</td><td>18.4</td><td>3.7</td><td>3.7</td><td>1695.0</td><td>57.0</td><td>57.0</td><td>2008A+A...491..889D</td><td>2011MNRAS.417.2166S</td></tr>\n",
       "<tr><td>5</td><td>CoRoT-04</td><td>6190</td><td>60</td><td>60</td><td>0.05</td><td>0.07</td><td>0.07</td><td>1.194</td><td>0.049</td><td>0.05</td><td>1.148</td><td>0.092</td><td>0.032</td><td>4.396</td><td>0.024</td><td>0.068</td><td>0.79</td><td>0.064</td><td>0.161</td><td>9.202</td><td>0.0</td><td>-1.0</td><td>-1.0</td><td>0.0912</td><td>0.00125</td><td>0.0013</td><td>0.731</td><td>0.071</td><td>0.072</td><td>1.16</td><td>0.115</td><td>0.04</td><td>13.5</td><td>1.6</td><td>2.6</td><td>0.438</td><td>0.062</td><td>0.116</td><td>1058.0</td><td>42.0</td><td>17.0</td><td>2008A+A...488L..43A</td><td>2011MNRAS.417.2166S</td></tr>\n",
       "<tr><td>6</td><td>CoRoT-05</td><td>6100</td><td>65</td><td>65</td><td>-0.25</td><td>0.06</td><td>0.06</td><td>1.025</td><td>0.1</td><td>0.059</td><td>1.0516</td><td>0.0811</td><td>0.0673</td><td>4.405</td><td>0.068</td><td>0.059</td><td>0.88</td><td>0.21</td><td>0.16</td><td>4.038</td><td>0.09</td><td>0.09</td><td>0.04</td><td>0.05004</td><td>0.00162</td><td>0.00097</td><td>0.469</td><td>0.057</td><td>0.03</td><td>1.182</td><td>0.102</td><td>0.098</td><td>8.3</td><td>1.8</td><td>1.3</td><td>0.266</td><td>0.081</td><td>0.058</td><td>1348.0</td><td>50.0</td><td>51.0</td><td>2009A+A...506..281R</td><td>2011MNRAS.417.2166S</td></tr>\n",
       "<tr><td>7</td><td>CoRoT-06</td><td>6090</td><td>70</td><td>70</td><td>-0.2</td><td>0.1</td><td>0.1</td><td>1.054</td><td>0.063</td><td>0.063</td><td>1.043</td><td>0.03</td><td>0.03</td><td>4.425</td><td>0.022</td><td>0.022</td><td>0.929</td><td>0.064</td><td>0.064</td><td>8.887</td><td>0.0</td><td>-1.0</td><td>-1.0</td><td>0.0855</td><td>0.0017</td><td>0.0017</td><td>2.96</td><td>0.34</td><td>0.34</td><td>1.185</td><td>0.041</td><td>0.041</td><td>52.3</td><td>6.4</td><td>6.4</td><td>1.66</td><td>0.23</td><td>0.23</td><td>1025.0</td><td>16.0</td><td>16.0</td><td>2010A+A...512A..14F</td><td>2011MNRAS.417.2166S</td></tr>\n",
       "<tr><td>8</td><td>CoRoT-07</td><td>5259</td><td>58</td><td>58</td><td>0.138</td><td>0.061</td><td>0.061</td><td>0.913</td><td>0.017</td><td>0.017</td><td>0.82</td><td>0.019</td><td>0.019</td><td>4.573</td><td>0.011</td><td>0.011</td><td>1.671</td><td>0.073</td><td>0.073</td><td>0.854</td><td>0.0</td><td>0.32</td><td>0.0</td><td>0.01702</td><td>0.00017</td><td>4e-05</td><td>0.0181</td><td>0.0027</td><td>0.0027</td><td>0.1414</td><td>0.0057</td><td>0.0057</td><td>21.5</td><td>3.5</td><td>3.0</td><td>5.7</td><td>1.1</td><td>1.1</td><td>1756.0</td><td>27.0</td><td>27.0</td><td>2009A+A...506..287L</td><td>2014A+A...569A..74B</td></tr>\n",
       "<tr><td>9</td><td>CoRoT-08</td><td>5080</td><td>80</td><td>80</td><td>0.31</td><td>0.05</td><td>0.05</td><td>0.878</td><td>0.085</td><td>0.085</td><td>0.898</td><td>0.09</td><td>0.09</td><td>4.475</td><td>0.077</td><td>0.077</td><td>1.21</td><td>0.32</td><td>0.32</td><td>6.212</td><td>0.0</td><td>-1.0</td><td>-1.0</td><td>0.0633</td><td>0.002</td><td>0.002</td><td>0.216</td><td>0.036</td><td>0.036</td><td>0.712</td><td>0.083</td><td>0.083</td><td>10.6</td><td>2.9</td><td>2.9</td><td>0.56</td><td>0.21</td><td>0.21</td><td>922.0</td><td>41.0</td><td>41.0</td><td>2010A+A...520A..66B</td><td>2011MNRAS.417.2166S</td></tr>\n",
       "</table><style>table.dataTable {clear: both; width: auto !important; margin: 0 !important;}\n",
       ".dataTables_info, .dataTables_length, .dataTables_filter, .dataTables_paginate{\n",
       "display: inline-block; margin-right: 1em; }\n",
       ".paginate_button { margin-right: 5px; }\n",
       "</style>\n",
       "<script>\n",
       "\n",
       "var astropy_sort_num = function(a, b) {\n",
       "    var a_num = parseFloat(a);\n",
       "    var b_num = parseFloat(b);\n",
       "\n",
       "    if (isNaN(a_num) && isNaN(b_num))\n",
       "        return ((a < b) ? -1 : ((a > b) ? 1 : 0));\n",
       "    else if (!isNaN(a_num) && !isNaN(b_num))\n",
       "        return ((a_num < b_num) ? -1 : ((a_num > b_num) ? 1 : 0));\n",
       "    else\n",
       "        return isNaN(a_num) ? -1 : 1;\n",
       "}\n",
       "\n",
       "require.config({paths: {\n",
       "    datatables: 'https://cdn.datatables.net/1.10.12/js/jquery.dataTables.min'\n",
       "}});\n",
       "require([\"datatables\"], function(){\n",
       "    console.log(\"$('#table4559315744-422046').dataTable()\");\n",
       "    \n",
       "jQuery.extend( jQuery.fn.dataTableExt.oSort, {\n",
       "    \"optionalnum-asc\": astropy_sort_num,\n",
       "    \"optionalnum-desc\": function (a,b) { return -astropy_sort_num(a, b); }\n",
       "});\n",
       "\n",
       "    $('#table4559315744-422046').dataTable({\n",
       "        order: [],\n",
       "        pageLength: 50,\n",
       "        lengthMenu: [[10, 25, 50, 100, 500, 1000, -1], [10, 25, 50, 100, 500, 1000, 'All']],\n",
       "        pagingType: \"full_numbers\",\n",
       "        columnDefs: [{targets: [0, 2, 3, 4, 5, 6, 7, 8, 9, 10, 11, 12, 13, 14, 15, 16, 17, 18, 19, 20, 21, 22, 23, 24, 25, 26, 27, 28, 29, 30, 31, 32, 33, 34, 36, 37, 38, 39, 40, 41], type: \"optionalnum\"}]\n",
       "    });\n",
       "});\n",
       "</script>\n"
      ],
      "text/plain": [
       "<IPython.core.display.HTML object>"
      ]
     },
     "execution_count": 4,
     "metadata": {},
     "output_type": "execute_result"
    }
   ],
   "source": [
    "# read into a table and display\n",
    "t = ascii.read('new.csv')\n",
    "t[:10].show_in_notebook() # drop the [:10] to view all\n",
    "# the <show_in_noteook> attribute supports interactive table search = D"
   ]
  },
  {
   "cell_type": "markdown",
   "metadata": {},
   "source": [
    "## Data Visualization"
   ]
  },
  {
   "cell_type": "code",
   "execution_count": 165,
   "metadata": {},
   "outputs": [
    {
     "data": {
      "image/png": "[encoded data removed]",
      "text/plain": [
       "<Figure size 432x288 with 1 Axes>"
      ]
     },
     "metadata": {
      "image/png": {
       "height": 278,
       "width": 398
      }
     },
     "output_type": "display_data"
    }
   ],
   "source": [
    "# now that each header name is unique, we can reference them\n",
    "M_star = t['M_A']\n",
    "\n",
    "# and plot\n",
    "plt.hist(M_star, bins=50)\n",
    "plt.xlabel(r'$M_*$')\n",
    "plt.ylabel('frequency')\n",
    "plt.show()"
   ]
  },
  {
   "cell_type": "markdown",
   "metadata": {},
   "source": [
    "It looks like the majority of observed transiting planets are around $0.8 M_\\odot$ or so. Why is this? Is there a selection bias? It would be helpful to do a similar analysis with data from all types of confirmed planets, not just ones we happen to see with transits. The binning of the histogram also plays a role."
   ]
  }
 ],
 "metadata": {
  "kernelspec": {
   "display_name": "Python 3",
   "language": "python",
   "name": "python3"
  },
  "language_info": {
   "codemirror_mode": {
    "name": "ipython",
    "version": 3
   },
   "file_extension": ".py",
   "mimetype": "text/x-python",
   "name": "python",
   "nbconvert_exporter": "python",
   "pygments_lexer": "ipython3",
   "version": "3.6.4"
  },
  "toc": {
   "colors": {
    "hover_highlight": "#DAA520",
    "navigate_num": "#fc151b",
    "navigate_text": "#92a2be",
    "running_highlight": "#FF0000",
    "selected_highlight": "#FFD700",
    "sidebar_border": "#EEEEEE",
    "wrapper_background": "#FFFFFF"
   },
   "moveMenuLeft": true,
   "nav_menu": {
    "height": "89px",
    "width": "250px"
   },
   "navigate_menu": true,
   "number_sections": false,
   "sideBar": true,
   "threshold": 4,
   "toc_cell": false,
   "toc_section_display": "block",
   "toc_window_display": false,
   "widenNotebook": false
  }
 },
 "nbformat": 4,
 "nbformat_minor": 2
}
